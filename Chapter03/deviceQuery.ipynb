{
 "cells": [
  {
   "cell_type": "code",
   "execution_count": 1,
   "metadata": {},
   "outputs": [],
   "source": [
    "import pycuda.driver as drv\n",
    "drv.init()"
   ]
  },
  {
   "cell_type": "code",
   "execution_count": 2,
   "metadata": {},
   "outputs": [
    {
     "data": {
      "text/plain": [
       "'Detected 1 CUDA Capable device(s).'"
      ]
     },
     "execution_count": 2,
     "metadata": {},
     "output_type": "execute_result"
    }
   ],
   "source": [
    "f'Detected {drv.Device.count()} CUDA Capable device(s).'"
   ]
  },
  {
   "cell_type": "code",
   "execution_count": 11,
   "metadata": {},
   "outputs": [
    {
     "name": "stdout",
     "output_type": "stream",
     "text": [
      "Device 0: NVIDIA GeForce RTX 2070\n",
      "\t  Compute Capability: 7.5\n",
      "\t  Total Memory: 8191 MB.\n",
      "\t  ASYNC_ENGINE_COUNT: 6\n",
      "\t  CAN_MAP_HOST_MEMORY: 1\n",
      "\t  CLOCK_RATE: 1620000\n",
      "\t  COMPUTE_CAPABILITY_MAJOR: 7\n",
      "\t  COMPUTE_CAPABILITY_MINOR: 5\n",
      "\t  COMPUTE_MODE: DEFAULT\n",
      "\t  CONCURRENT_KERNELS: 1\n",
      "\t  ECC_ENABLED: 0\n",
      "\t  GLOBAL_L1_CACHE_SUPPORTED: 1\n",
      "\t  GLOBAL_MEMORY_BUS_WIDTH: 256\n",
      "\t  GPU_OVERLAP: 1\n",
      "\t  INTEGRATED: 0\n",
      "\t  KERNEL_EXEC_TIMEOUT: 1\n",
      "\t  L2_CACHE_SIZE: 4194304\n",
      "\t  LOCAL_L1_CACHE_SUPPORTED: 1\n",
      "\t  MANAGED_MEMORY: 1\n",
      "\t  MAXIMUM_SURFACE1D_LAYERED_LAYERS: 2048\n",
      "\t  MAXIMUM_SURFACE1D_LAYERED_WIDTH: 32768\n",
      "\t  MAXIMUM_SURFACE1D_WIDTH: 32768\n",
      "\t  MAXIMUM_SURFACE2D_HEIGHT: 65536\n",
      "\t  MAXIMUM_SURFACE2D_LAYERED_HEIGHT: 32768\n",
      "\t  MAXIMUM_SURFACE2D_LAYERED_LAYERS: 2048\n",
      "\t  MAXIMUM_SURFACE2D_LAYERED_WIDTH: 32768\n",
      "\t  MAXIMUM_SURFACE2D_WIDTH: 131072\n",
      "\t  MAXIMUM_SURFACE3D_DEPTH: 16384\n",
      "\t  MAXIMUM_SURFACE3D_HEIGHT: 16384\n",
      "\t  MAXIMUM_SURFACE3D_WIDTH: 16384\n",
      "\t  MAXIMUM_SURFACECUBEMAP_LAYERED_LAYERS: 2046\n",
      "\t  MAXIMUM_SURFACECUBEMAP_LAYERED_WIDTH: 32768\n",
      "\t  MAXIMUM_SURFACECUBEMAP_WIDTH: 32768\n",
      "\t  MAXIMUM_TEXTURE1D_LAYERED_LAYERS: 2048\n",
      "\t  MAXIMUM_TEXTURE1D_LAYERED_WIDTH: 32768\n",
      "\t  MAXIMUM_TEXTURE1D_LINEAR_WIDTH: 268435456\n",
      "\t  MAXIMUM_TEXTURE1D_MIPMAPPED_WIDTH: 32768\n",
      "\t  MAXIMUM_TEXTURE1D_WIDTH: 131072\n",
      "\t  MAXIMUM_TEXTURE2D_ARRAY_HEIGHT: 32768\n",
      "\t  MAXIMUM_TEXTURE2D_ARRAY_NUMSLICES: 2048\n",
      "\t  MAXIMUM_TEXTURE2D_ARRAY_WIDTH: 32768\n",
      "\t  MAXIMUM_TEXTURE2D_GATHER_HEIGHT: 32768\n",
      "\t  MAXIMUM_TEXTURE2D_GATHER_WIDTH: 32768\n",
      "\t  MAXIMUM_TEXTURE2D_HEIGHT: 65536\n",
      "\t  MAXIMUM_TEXTURE2D_LINEAR_HEIGHT: 65000\n",
      "\t  MAXIMUM_TEXTURE2D_LINEAR_PITCH: 2097120\n",
      "\t  MAXIMUM_TEXTURE2D_LINEAR_WIDTH: 131072\n",
      "\t  MAXIMUM_TEXTURE2D_MIPMAPPED_HEIGHT: 32768\n",
      "\t  MAXIMUM_TEXTURE2D_MIPMAPPED_WIDTH: 32768\n",
      "\t  MAXIMUM_TEXTURE2D_WIDTH: 131072\n",
      "\t  MAXIMUM_TEXTURE3D_DEPTH: 16384\n",
      "\t  MAXIMUM_TEXTURE3D_DEPTH_ALTERNATE: 32768\n",
      "\t  MAXIMUM_TEXTURE3D_HEIGHT: 16384\n",
      "\t  MAXIMUM_TEXTURE3D_HEIGHT_ALTERNATE: 8192\n",
      "\t  MAXIMUM_TEXTURE3D_WIDTH: 16384\n",
      "\t  MAXIMUM_TEXTURE3D_WIDTH_ALTERNATE: 8192\n",
      "\t  MAXIMUM_TEXTURECUBEMAP_LAYERED_LAYERS: 2046\n",
      "\t  MAXIMUM_TEXTURECUBEMAP_LAYERED_WIDTH: 32768\n",
      "\t  MAXIMUM_TEXTURECUBEMAP_WIDTH: 32768\n",
      "\t  MAX_BLOCK_DIM_X: 1024\n",
      "\t  MAX_BLOCK_DIM_Y: 1024\n",
      "\t  MAX_BLOCK_DIM_Z: 64\n",
      "\t  MAX_GRID_DIM_X: 2147483647\n",
      "\t  MAX_GRID_DIM_Y: 65535\n",
      "\t  MAX_GRID_DIM_Z: 65535\n",
      "\t  MAX_PITCH: 2147483647\n",
      "\t  MAX_REGISTERS_PER_BLOCK: 65536\n",
      "\t  MAX_REGISTERS_PER_MULTIPROCESSOR: 65536\n",
      "\t  MAX_SHARED_MEMORY_PER_BLOCK: 49152\n",
      "\t  MAX_SHARED_MEMORY_PER_MULTIPROCESSOR: 65536\n",
      "\t  MAX_THREADS_PER_BLOCK: 1024\n",
      "\t  MAX_THREADS_PER_MULTIPROCESSOR: 1024\n",
      "\t  MEMORY_CLOCK_RATE: 7001000\n",
      "\t  MULTIPROCESSOR_COUNT: 36\n",
      "\t  MULTI_GPU_BOARD: 0\n",
      "\t  MULTI_GPU_BOARD_GROUP_ID: 0\n",
      "\t  PCI_BUS_ID: 7\n",
      "\t  PCI_DEVICE_ID: 0\n",
      "\t  PCI_DOMAIN_ID: 0\n",
      "\t  STREAM_PRIORITIES_SUPPORTED: 1\n",
      "\t  SURFACE_ALIGNMENT: 512\n",
      "\t  TCC_DRIVER: 0\n",
      "\t  TEXTURE_ALIGNMENT: 512\n",
      "\t  TEXTURE_PITCH_ALIGNMENT: 32\n",
      "\t  TOTAL_CONSTANT_MEMORY: 65536\n",
      "\t  UNIFIED_ADDRESSING: 1\n",
      "\t  WARP_SIZE: 32\n"
     ]
    }
   ],
   "source": [
    "for i in range(drv.Device.count()):\n",
    "    dev = drv.Device(i)\n",
    "    print(f'Device {i}: {dev.name()}')\n",
    "    major, minor = dev.compute_capability()\n",
    "    print(f'\\t  Compute Capability: {major}.{minor}')\n",
    "    print(f'\\t  Total Memory: {dev.total_memory() // (1024**2)} MB.')\n",
    "    \n",
    "    device_attributes = {}\n",
    "    for k, v in dev.get_attributes().items():\n",
    "        device_attributes.update({str(k): v})\n",
    "    for k, v in device_attributes.items():\n",
    "        print(f'\\t  {k}: {v}')\n",
    "\n",
    "    "
   ]
  },
  {
   "cell_type": "code",
   "execution_count": null,
   "metadata": {},
   "outputs": [],
   "source": []
  }
 ],
 "metadata": {
  "kernelspec": {
   "display_name": "Python 3.7.4 ('base')",
   "language": "python",
   "name": "python3"
  },
  "language_info": {
   "codemirror_mode": {
    "name": "ipython",
    "version": 3
   },
   "file_extension": ".py",
   "mimetype": "text/x-python",
   "name": "python",
   "nbconvert_exporter": "python",
   "pygments_lexer": "ipython3",
   "version": "3.7.4"
  },
  "orig_nbformat": 4,
  "vscode": {
   "interpreter": {
    "hash": "b09ec625f77bf4fd762565a912b97636504ad6ec901eb2d0f4cf5a7de23e1ee5"
   }
  }
 },
 "nbformat": 4,
 "nbformat_minor": 2
}
